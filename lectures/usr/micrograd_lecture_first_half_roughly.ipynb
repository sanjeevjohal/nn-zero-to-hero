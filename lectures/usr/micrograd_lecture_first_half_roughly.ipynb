{
 "cells": [
  {
   "cell_type": "code",
   "execution_count": 1,
   "metadata": {},
   "outputs": [
    {
     "name": "stderr",
     "output_type": "stream",
     "text": [
      "UsageError: Line magic function `%` not found.\n"
     ]
    }
   ],
   "source": [
    "import math\n",
    "import numpy as np\n",
    "import matplotlib.pyplot as plt\n",
    "% matplotlib inline"
   ]
  },
  {
   "cell_type": "code",
   "execution_count": null,
   "metadata": {},
   "outputs": [],
   "source": [
    "# let's start with a simple function which is a parabola (quadratic)\n",
    "def f(x):\n",
    "    return 3 * x ** 2 - 4 * x + 5"
   ]
  },
  {
   "cell_type": "code",
   "execution_count": null,
   "metadata": {},
   "outputs": [],
   "source": [
    "f(3.0)"
   ]
  },
  {
   "cell_type": "code",
   "execution_count": null,
   "metadata": {},
   "outputs": [],
   "source": [
    "xs = np.arange(-5, 5, 0.25)  # start, stop, step. np.arange is like range, but returns a numpy array\n",
    "print(type(xs))\n",
    "ys = f(xs)\n",
    "plt.plot(xs, ys)  # this gives us a parabola which is concave upx"
   ]
  },
  {
   "cell_type": "markdown",
   "source": [
    "# Derivatives\n",
    "- now we want to find the slope of the tangent line at a point\n",
    "- it's measuring the rate of change of the function at a point (how fast the function is changing)\n",
    "- rise over run\n"
   ],
   "metadata": {
    "collapsed": false
   }
  },
  {
   "cell_type": "code",
   "execution_count": null,
   "outputs": [],
   "source": [
    "# h is the change in x and is very small\n",
    "h = 0.000001\n",
    "x = 2 / 3  # this is optimimum for the parabola i.e. the slope is 0 (local minimum)\n",
    "(f(x + h) - f(x)) / h  # normalised by h to make it a slope"
   ],
   "metadata": {
    "collapsed": false
   }
  },
  {
   "cell_type": "code",
   "execution_count": null,
   "metadata": {},
   "outputs": [],
   "source": [
    "# lets get more complex, i.e. a function with multiple inputs with a single output d\n",
    "a = 2.0\n",
    "b = -3.0\n",
    "c = 10.0\n",
    "d = a * b + c\n",
    "print(d)"
   ]
  },
  {
   "cell_type": "markdown",
   "source": [
    "# Tip\n",
    "The derivative of a function tells you how much the function changes when you make a small change to one of its inputs. In this case, we want to find the derivative of a*b + c with respect to the variable a. This means we want to know how much the value of the function changes when we make a small change to the value of a.\n",
    "\n",
    "The statement says that the derivative of a*b + c with respect to a is simply b. This means that if we change a by a small amount, the value of the function will change by approximately b times that small amount."
   ],
   "metadata": {
    "collapsed": false
   }
  },
  {
   "cell_type": "code",
   "execution_count": null,
   "metadata": {},
   "outputs": [],
   "source": [
    "# we can find the derivative of d with respect to a\n",
    "h = 0.0001  # small change\n",
    "\n",
    "# inputs\n",
    "a = 2.0\n",
    "b = -3.0\n",
    "c = 10.0\n",
    "\n",
    "d1 = a * b + c  # original value\n",
    "a += h  # change a by a small amount\n",
    "d2 = a * b + c  # new value\n",
    "\n",
    "print('d1', d1)\n",
    "print('d2', d2)\n",
    "print('slope', (d2 - d1) / h)  # i.e. derivative of d with respect to a is b = -3.0\n"
   ]
  },
  {
   "cell_type": "markdown",
   "source": [
    "# Derivatives of a function with multiple inputs\n",
    "- we can use the chain rule to find the derivative of a function with multiple inputs\n",
    "- the derivative of a function with multiple inputs is the sum of the partial derivatives of each input\n",
    "- the partial derivative of a function with respect to a variable is the derivative of the function with respect to that variable, holding all other variables constant"
   ],
   "metadata": {
    "collapsed": false
   }
  },
  {
   "cell_type": "markdown",
   "source": [
    "# Class Features\n",
    "- we want to create a class which can store a value and its gradient\n",
    "- we want to be able to add and multiply values\n",
    "- we want to be able to apply a non-linear activation function\n",
    "- we want to be able to backpropagate the gradient through the graph\n",
    "- we want to be able to visualise the graph\n",
    "- we want to be able to update the value of a variable\n",
    "\n",
    "### Objective\n",
    "- We want to create data structures that's scalable and efficient\n",
    "- Create connecting tissue between the data structures to get lineage (i.e. leave nodes)"
   ],
   "metadata": {
    "collapsed": false
   }
  },
  {
   "cell_type": "code",
   "execution_count": 3,
   "metadata": {},
   "outputs": [
    {
     "data": {
      "text/plain": "Value(data=-8.0)"
     },
     "execution_count": 3,
     "metadata": {},
     "output_type": "execute_result"
    }
   ],
   "source": [
    "class Value:\n",
    "    # this is the constructor\n",
    "    def __init__(self, data, _children=(), _op='', label=''):\n",
    "        self.data = data\n",
    "        self.grad = 0.0 # this will maintain the derivative of L with respect to the node. Initialised to 0 which essentially means it doesn't \"yet\" effect the output value of the loss function\n",
    "        self._backward = lambda: None # it initialises the function to do nothing, and we use a lambda function because it's a one liner\n",
    "        self._prev = set(_children)  # this gives us the lineage of the node ie what nodes are connected to it\n",
    "        self._op = _op  # this tells us the operation that was performed on the node\n",
    "        self.label = label  # this is the label of the node\n",
    "\n",
    "    def __repr__(self):\n",
    "        return f\"Value(data={self.data})\"\n",
    "\n",
    "    # this is the forward pass by using these private methods (i.e. __add__ and __mul__)\n",
    "    # we use double underscores to make the method private and because the arguments are integers we can use the + and * operators which would have otherwise concatenated strings\n",
    "    # create a backward private method which will be used in the backpropagation algorithm\n",
    "        # use the chain rule: multiply the data of the node by the gradient of the output node\n",
    "        # we return the function, so we don't execute it immediately\n",
    "    def __add__(self, other):\n",
    "        out = Value(self.data + other.data, (self, other), '+')\n",
    "\n",
    "        def _backward():\n",
    "            # chain rule: for adding we just propogate as-is\n",
    "            self.grad += 1.0 * out.grad\n",
    "            other.grad += 1.0 * out.grad\n",
    "\n",
    "        out._backward = _backward\n",
    "\n",
    "        return out\n",
    "\n",
    "    def __mul__(self, other):\n",
    "        out = Value(self.data * other.data, (self, other), '*')\n",
    "\n",
    "        def _backward():\n",
    "            # chain rule: we criss-cross the data of the nodes TIMES the gradient of the output node\n",
    "            self.grad += other.data * out.grad\n",
    "            other.grad += self.data * out.grad\n",
    "\n",
    "        out._backward = _backward\n",
    "\n",
    "        return out\n",
    "\n",
    "    def tanh(self):  # tanh is a non-linear activation function\n",
    "        x = self.data\n",
    "        t = (math.exp(2 * x) - 1) / (math.exp(2 * x) + 1)\n",
    "        out = Value(t, (self,), 'tanh')\n",
    "\n",
    "        def _backward():\n",
    "            # chain rule: we TIMES the data of the node by the gradient of the output node\n",
    "            self.grad += (1 - t ** 2) * out.grad\n",
    "\n",
    "        out._backward = _backward\n",
    "\n",
    "        return out\n",
    "\n",
    "    def backward(self):  # this is the backpropagation algorithm\n",
    "\n",
    "        topo = []\n",
    "        visited = set()  # set does not allow duplicates and is unordered and unindexed (faster than list)\n",
    "\n",
    "        def build_topo(v):\n",
    "            if v not in visited:\n",
    "                visited.add(v)\n",
    "                for child in v._prev:\n",
    "                    build_topo(child)\n",
    "                topo.append(v)\n",
    "\n",
    "        build_topo(self)\n",
    "\n",
    "        self.grad = 1.0\n",
    "        for node in reversed(topo):\n",
    "            node._backward()\n",
    "\n",
    "\n",
    "a = Value(2.0, label='a')\n",
    "b = Value(-3.0, label='b')\n",
    "c = Value(10.0, label='c')\n",
    "e = a * b;\n",
    "e.label = 'e'\n",
    "d = e + c;\n",
    "d.label = 'd'\n",
    "f = Value(-2.0, label='f')\n",
    "L = d * f;\n",
    "L.label = 'L'\n",
    "L"
   ]
  },
  {
   "cell_type": "code",
   "execution_count": 7,
   "metadata": {},
   "outputs": [],
   "source": [
    "from graphviz import Digraph\n",
    "\n",
    "\n",
    "def trace(root):\n",
    "    # is a helper function for draw_dot to help build a set of all nodes and edges in a graph\n",
    "    nodes, edges = set(), set()  # set does not allow duplicates and is unordered and unindexed (faster than list)\n",
    "\n",
    "    def build(v):\n",
    "        if v not in nodes:\n",
    "            nodes.add(v)\n",
    "            for child in v._prev:\n",
    "                edges.add((child, v))\n",
    "                build(child)\n",
    "\n",
    "    build(root)\n",
    "    return nodes, edges\n",
    "\n",
    "\n",
    "def draw_dot(root):\n",
    "    dot = Digraph(format='svg', graph_attr={'rankdir': 'LR'})  # LR = left to right\n",
    "\n",
    "    nodes, edges = trace(root)\n",
    "    for n in nodes:\n",
    "        uid = str(id(n))\n",
    "        # for any value in the graph, create a rectangular ('record') node for it\n",
    "        dot.node(name=uid,\n",
    "                 label=\"{ %s | data %.4f | grad %.4f }\" % (n.label, n.data, n.grad),\n",
    "                 # label=\"{ %s | data %.4f | <b>grad</b> %.4f }\" % (n.label, n.data, n.grad),\n",
    "                 shape='record')\n",
    "        if n._op:\n",
    "            # if this value is a result of some operation, create an op node for it\n",
    "            dot.node(name=uid + n._op, label=n._op)\n",
    "            # and connect this node to it\n",
    "            dot.edge(uid + n._op, uid)\n",
    "\n",
    "    for n1, n2 in edges:\n",
    "        # connect n1 to the op node of n2\n",
    "        dot.edge(str(id(n1)), str(id(n2)) + n2._op)\n",
    "\n",
    "    return dot\n"
   ]
  },
  {
   "cell_type": "code",
   "execution_count": null,
   "metadata": {},
   "outputs": [],
   "source": [
    "L.grad = 1.0 # derivative of L with respect to L is 1 so can be set manually\n",
    "# likewise the derivative of L with respect to d and f can also be set manually because these are the last hidden layer\n",
    "d.grad = -2\n",
    "f.grad = -4\n",
    "draw_dot(L)"
   ]
  },
  {
   "cell_type": "markdown",
   "source": [
    "# ⭐️Explain in simple terms⭐️\n",
    "Now lets see how sensitive are changes in C and E to the output of the loss function**\n",
    "\n",
    "dd / dc = ?\n",
    "\n",
    "- consider this derivative function\n",
    "`(f(x + h) - f(x)) / h i.e. change in f(x) / change in x`\n",
    "- substitute with the function we're interested in\n",
    "`((c + h) + e) - (c + e)) / h`\n",
    "- now expand out\n",
    "`(c + h + e - c - e) / h`\n",
    "- now simplify\n",
    "`(h + 0) / h = 1`\n",
    "\n",
    "## Key takeaways\n",
    "- What this tells us that if we change c by a small amount L will change by the same amount\n",
    "- By symmetry, the same is true for dd / de = 1\n",
    "- NB however these are local (derivative) changes and not global changes which are calculated using the chain rule\n"
   ],
   "metadata": {
    "collapsed": false
   }
  },
  {
   "cell_type": "markdown",
   "source": [
    "# Chain Rule\n",
    "\n",
    "- see this [video](https://www.youtube.com/watch?v=IwUJwQYQHkE) for a good explanation of the chain rule or this wikipedia [article](https://en.wikipedia.org/wiki/Chain_rule)\n",
    "    - here's a snippet from the wikipedia article:\n",
    "        - \"Intuitively, the chain rule states that knowing the instantaneous rate of change of z relative to y and that of y relative to x allows one to calculate the instantaneous rate of change of z relative to x as the product of the two rates of change.\n",
    "        - As put by George F. Simmons: \"if a car travels twice as fast as a bicycle and the bicycle is four times as fast as a walking man, then the car travels 2 × 4 = 8 times as fast as the man.\"\n",
    "- therefore `dL / dc = (dL / dd) * (dd / dc) = -2 * 1 = -2`\n",
    "- ⭐️ think of any positive operators as simply routing the gradient through the expression graph"
   ],
   "metadata": {
    "collapsed": false
   }
  },
  {
   "cell_type": "code",
   "execution_count": null,
   "outputs": [],
   "source": [
    "# therefore we can manually add the gradient to the c and e nodes\n",
    "c.grad += -2\n",
    "e.grad += -2\n",
    "draw_dot(L)\n",
    "#"
   ],
   "metadata": {
    "collapsed": false
   }
  },
  {
   "cell_type": "markdown",
   "source": [
    "# now lets manually create the gradient for a and b\n",
    "- we know that `dl/de = -2`\n",
    "- we know that the local gradient of `de/da = b` and `de/db = a`\n",
    "- ∴ `dl/da = dl/de * de/da = -2 * -3 = 6`\n",
    "- ∴ `dl/db = dl/de * de/db = -2 * 2 = -4`"
   ],
   "metadata": {
    "collapsed": false
   }
  },
  {
   "cell_type": "code",
   "execution_count": null,
   "outputs": [],
   "source": [
    "# therefore set these gradients manually\n",
    "a.grad += 6\n",
    "b.grad += -4\n",
    "draw_dot(L)\n"
   ],
   "metadata": {
    "collapsed": false
   }
  },
  {
   "cell_type": "code",
   "execution_count": null,
   "outputs": [],
   "source": [
    "# <editor-fold desc=\"Single optimser step\">\n",
    "# where we want to L to go up by 0.01 ie. in the direction of the gradient,\n",
    "# so we nudge the leaf nodes in the direction of the gradient that we have control over\n",
    "a.data += 0.01 * a.grad\n",
    "b.data += 0.01 * b.grad\n",
    "c.data += 0.01 * c.grad\n",
    "f.data += 0.01 * f.grad\n",
    "\n",
    "# mimic a forward pass\n",
    "e = a * b\n",
    "d = e + c\n",
    "L = d * f\n",
    "\n",
    "print(L.data)\n",
    "# </editor-fold>\n",
    "\n",
    "# # <editor-fold desc=\"reset the data\">\n",
    "# a.data = 2.0\n",
    "# b.data = -3.0\n",
    "# c.data = 10.0\n",
    "# f.data = -2.0\n",
    "# # mimic a forward pass\n",
    "# e = a * b\n",
    "# d = e + c\n",
    "# L = d * f\n",
    "# print(L.data)\n",
    "# # </editor-fold>\n",
    "\n",
    "\n"
   ],
   "metadata": {
    "collapsed": false
   }
  },
  {
   "cell_type": "code",
   "execution_count": null,
   "metadata": {},
   "outputs": [],
   "source": [
    "# this is just sandpit code to do an inline gradient check FOR ALL THE ABOVE manually created\n",
    "# this is different to numerical gradient which is estimating using small step sizes\n",
    "def lol():\n",
    "    h = 0.001\n",
    "\n",
    "    a = Value(2.0, label='a')\n",
    "    b = Value(-3.0, label='b')\n",
    "    c = Value(10.0, label='c')\n",
    "    e = a * b\n",
    "    e.label = 'e'\n",
    "    d = e + c\n",
    "    d.label = 'd'\n",
    "    f = Value(-2.0, label='f')\n",
    "    L = d * f\n",
    "    L.label = 'L'\n",
    "    L1 = L.data\n",
    "\n",
    "    a = Value(2.0, label='a')\n",
    "    b = Value(-3.0, label='b')\n",
    "    # b.data += h\n",
    "    c = Value(10.0, label='c')\n",
    "    e = a * b\n",
    "    e.label = 'e'\n",
    "    d = e + c\n",
    "    d.label = 'd'\n",
    "    d.data += h # derivative of L with respect to d should be f so can be set manually i.e. -2\n",
    "    f = Value(-2.0, label='f')\n",
    "    L = d * f\n",
    "    L.label = 'L'\n",
    "    L2 = L.data\n",
    "\n",
    "    print((L2 - L1) / h)\n",
    "\n",
    "\n",
    "lol()"
   ]
  },
  {
   "cell_type": "markdown",
   "source": [
    "# Backpropagation\n",
    "- we want to be able to backpropagate the gradient through the graph i.e. calculate the gradient of the loss with respect to each variable\n",
    "- we're interested in the derivative of the Loss function with respect to the weights of the neural network and need to know how these weights are impacting the loss function\n",
    "- remember only the weights change and iterated on using the gradient descent algorithm"
   ],
   "metadata": {
    "collapsed": false
   }
  },
  {
   "cell_type": "markdown",
   "source": [
    "## Example of a mathematical model of a neuron\n",
    "\n",
    "![Mathematical model of a neuron](../micrograd/images/Mathematical-model-of-a-biological-neuron.ppm)\n"
   ],
   "metadata": {
    "collapsed": false
   }
  },
  {
   "cell_type": "markdown",
   "source": [
    "- Now we're going to backpropagate through a neuron in a neural network (which is a multi-layer perceptron)\n",
    "- Use tanh as the activation function which is a sigmoid function that is zero centered whereas sigmoid is not\n",
    "- the activation function is a squashing function that squashes the output of the neuron to be between -1 and 1"
   ],
   "metadata": {
    "collapsed": false
   }
  },
  {
   "cell_type": "code",
   "execution_count": null,
   "metadata": {},
   "outputs": [],
   "source": [
    "plt.plot(np.arange(-5, 5, 0.2), np.tanh(np.arange(-5, 5, 0.2)));\n",
    "plt.grid();"
   ]
  },
  {
   "cell_type": "code",
   "execution_count": 4,
   "metadata": {},
   "outputs": [],
   "source": [
    "# Now let's do a dot.product of the inputs and weights and add the bias\n",
    "# deliberately broken down to then be able\n",
    "# inputs x1,x2\n",
    "x1 = Value(2.0, label='x1')\n",
    "x2 = Value(0.0, label='x2')\n",
    "# weights w1,w2\n",
    "w1 = Value(-3.0, label='w1')\n",
    "w2 = Value(1.0, label='w2')\n",
    "# bias of the neuron. This number was deliberately chosen\n",
    "b = Value(6.8813735870195432, label='b') # this is the bias that makes the neuron fire when the inputs are 0,0. It's deliberately chosen as 6.8813735870195432 to ...\n",
    "# x1*w1 + x2*w2 + b\n",
    "x1w1 = x1 * w1;\n",
    "x1w1.label = 'x1*w1'\n",
    "x2w2 = x2 * w2;\n",
    "x2w2.label = 'x2*w2'\n",
    "x1w1x2w2 = x1w1 + x2w2;\n",
    "x1w1x2w2.label = 'x1*w1 + x2*w2'\n",
    "n = x1w1x2w2 + b;\n",
    "n.label = 'n'\n",
    "o = n.tanh(); # tanh is a hyperbolic function that needs more than just pluses and times because you also need exponentiation\n",
    "o.label = 'o'"
   ]
  },
  {
   "cell_type": "code",
   "execution_count": 10,
   "outputs": [
    {
     "data": {
      "image/svg+xml": "<?xml version=\"1.0\" encoding=\"UTF-8\" standalone=\"no\"?>\n<!DOCTYPE svg PUBLIC \"-//W3C//DTD SVG 1.1//EN\"\n \"http://www.w3.org/Graphics/SVG/1.1/DTD/svg11.dtd\">\n<!-- Generated by graphviz version 7.1.0 (20230121.1956)\n -->\n<!-- Pages: 1 -->\n<svg width=\"1575pt\" height=\"210pt\"\n viewBox=\"0.00 0.00 1575.00 210.00\" xmlns=\"http://www.w3.org/2000/svg\" xmlns:xlink=\"http://www.w3.org/1999/xlink\">\n<g id=\"graph0\" class=\"graph\" transform=\"scale(1 1) rotate(0) translate(4 206)\">\n<polygon fill=\"white\" stroke=\"none\" points=\"-4,4 -4,-206 1571,-206 1571,4 -4,4\"/>\n<!-- 5583738896 -->\n<g id=\"node1\" class=\"node\">\n<title>5583738896</title>\n<polygon fill=\"none\" stroke=\"black\" points=\"1071,-54.5 1071,-90.5 1256,-90.5 1256,-54.5 1071,-54.5\"/>\n<text text-anchor=\"middle\" x=\"1082.5\" y=\"-68.8\" font-family=\"Times,serif\" font-size=\"14.00\">n</text>\n<polyline fill=\"none\" stroke=\"black\" points=\"1094,-54.5 1094,-90.5\"/>\n<text text-anchor=\"middle\" x=\"1134\" y=\"-68.8\" font-family=\"Times,serif\" font-size=\"14.00\">data 0.8814</text>\n<polyline fill=\"none\" stroke=\"black\" points=\"1174,-54.5 1174,-90.5\"/>\n<text text-anchor=\"middle\" x=\"1215\" y=\"-68.8\" font-family=\"Times,serif\" font-size=\"14.00\">grad 0.5000</text>\n</g>\n<!-- 5583735776tanh -->\n<g id=\"node15\" class=\"node\">\n<title>5583735776tanh</title>\n<ellipse fill=\"none\" stroke=\"black\" cx=\"1319\" cy=\"-72.5\" rx=\"27\" ry=\"18\"/>\n<text text-anchor=\"middle\" x=\"1319\" y=\"-68.8\" font-family=\"Times,serif\" font-size=\"14.00\">tanh</text>\n</g>\n<!-- 5583738896&#45;&gt;5583735776tanh -->\n<g id=\"edge8\" class=\"edge\">\n<title>5583738896&#45;&gt;5583735776tanh</title>\n<path fill=\"none\" stroke=\"black\" d=\"M1255.57,-72.5C1264.21,-72.5 1272.6,-72.5 1280.28,-72.5\"/>\n<polygon fill=\"black\" stroke=\"black\" points=\"1280.19,-76 1290.19,-72.5 1280.19,-69 1280.19,-76\"/>\n</g>\n<!-- 5583738896+ -->\n<g id=\"node2\" class=\"node\">\n<title>5583738896+</title>\n<ellipse fill=\"none\" stroke=\"black\" cx=\"1008\" cy=\"-72.5\" rx=\"27\" ry=\"18\"/>\n<text text-anchor=\"middle\" x=\"1008\" y=\"-68.8\" font-family=\"Times,serif\" font-size=\"14.00\">+</text>\n</g>\n<!-- 5583738896+&#45;&gt;5583738896 -->\n<g id=\"edge1\" class=\"edge\">\n<title>5583738896+&#45;&gt;5583738896</title>\n<path fill=\"none\" stroke=\"black\" d=\"M1035.39,-72.5C1042.62,-72.5 1050.92,-72.5 1059.74,-72.5\"/>\n<polygon fill=\"black\" stroke=\"black\" points=\"1059.64,-76 1069.64,-72.5 1059.64,-69 1059.64,-76\"/>\n</g>\n<!-- 5583733808 -->\n<g id=\"node3\" class=\"node\">\n<title>5583733808</title>\n<polygon fill=\"none\" stroke=\"black\" points=\"4,-55.5 4,-91.5 196,-91.5 196,-55.5 4,-55.5\"/>\n<text text-anchor=\"middle\" x=\"19\" y=\"-69.8\" font-family=\"Times,serif\" font-size=\"14.00\">x2</text>\n<polyline fill=\"none\" stroke=\"black\" points=\"34,-55.5 34,-91.5\"/>\n<text text-anchor=\"middle\" x=\"74\" y=\"-69.8\" font-family=\"Times,serif\" font-size=\"14.00\">data 0.0000</text>\n<polyline fill=\"none\" stroke=\"black\" points=\"114,-55.5 114,-91.5\"/>\n<text text-anchor=\"middle\" x=\"155\" y=\"-69.8\" font-family=\"Times,serif\" font-size=\"14.00\">grad 0.0000</text>\n</g>\n<!-- 5583741680* -->\n<g id=\"node11\" class=\"node\">\n<title>5583741680*</title>\n<ellipse fill=\"none\" stroke=\"black\" cx=\"263\" cy=\"-73.5\" rx=\"27\" ry=\"18\"/>\n<text text-anchor=\"middle\" x=\"263\" y=\"-69.8\" font-family=\"Times,serif\" font-size=\"14.00\">*</text>\n</g>\n<!-- 5583733808&#45;&gt;5583741680* -->\n<g id=\"edge13\" class=\"edge\">\n<title>5583733808&#45;&gt;5583741680*</title>\n<path fill=\"none\" stroke=\"black\" d=\"M195.59,-73.5C205.66,-73.5 215.42,-73.5 224.23,-73.5\"/>\n<polygon fill=\"black\" stroke=\"black\" points=\"224.07,-77 234.07,-73.5 224.07,-70 224.07,-77\"/>\n</g>\n<!-- 5583740528 -->\n<g id=\"node4\" class=\"node\">\n<title>5583740528</title>\n<polygon fill=\"none\" stroke=\"black\" points=\"326,-110.5 326,-146.5 546,-146.5 546,-110.5 326,-110.5\"/>\n<text text-anchor=\"middle\" x=\"352.5\" y=\"-124.8\" font-family=\"Times,serif\" font-size=\"14.00\">x1*w1</text>\n<polyline fill=\"none\" stroke=\"black\" points=\"379,-110.5 379,-146.5\"/>\n<text text-anchor=\"middle\" x=\"421.5\" y=\"-124.8\" font-family=\"Times,serif\" font-size=\"14.00\">data &#45;6.0000</text>\n<polyline fill=\"none\" stroke=\"black\" points=\"464,-110.5 464,-146.5\"/>\n<text text-anchor=\"middle\" x=\"505\" y=\"-124.8\" font-family=\"Times,serif\" font-size=\"14.00\">grad 0.0000</text>\n</g>\n<!-- 5583739520+ -->\n<g id=\"node7\" class=\"node\">\n<title>5583739520+</title>\n<ellipse fill=\"none\" stroke=\"black\" cx=\"609\" cy=\"-100.5\" rx=\"27\" ry=\"18\"/>\n<text text-anchor=\"middle\" x=\"609\" y=\"-96.8\" font-family=\"Times,serif\" font-size=\"14.00\">+</text>\n</g>\n<!-- 5583740528&#45;&gt;5583739520+ -->\n<g id=\"edge9\" class=\"edge\">\n<title>5583740528&#45;&gt;5583739520+</title>\n<path fill=\"none\" stroke=\"black\" d=\"M545.78,-110.69C554.79,-109.21 563.43,-107.8 571.25,-106.52\"/>\n<polygon fill=\"black\" stroke=\"black\" points=\"571.64,-110 580.94,-104.93 570.5,-103.09 571.64,-110\"/>\n</g>\n<!-- 5583740528* -->\n<g id=\"node5\" class=\"node\">\n<title>5583740528*</title>\n<ellipse fill=\"none\" stroke=\"black\" cx=\"263\" cy=\"-128.5\" rx=\"27\" ry=\"18\"/>\n<text text-anchor=\"middle\" x=\"263\" y=\"-124.8\" font-family=\"Times,serif\" font-size=\"14.00\">*</text>\n</g>\n<!-- 5583740528*&#45;&gt;5583740528 -->\n<g id=\"edge2\" class=\"edge\">\n<title>5583740528*&#45;&gt;5583740528</title>\n<path fill=\"none\" stroke=\"black\" d=\"M290.34,-128.5C297.6,-128.5 305.98,-128.5 314.97,-128.5\"/>\n<polygon fill=\"black\" stroke=\"black\" points=\"314.69,-132 324.69,-128.5 314.69,-125 314.69,-132\"/>\n</g>\n<!-- 5583739520 -->\n<g id=\"node6\" class=\"node\">\n<title>5583739520</title>\n<polygon fill=\"none\" stroke=\"black\" points=\"672,-82.5 672,-118.5 945,-118.5 945,-82.5 672,-82.5\"/>\n<text text-anchor=\"middle\" x=\"725\" y=\"-96.8\" font-family=\"Times,serif\" font-size=\"14.00\">x1*w1 + x2*w2</text>\n<polyline fill=\"none\" stroke=\"black\" points=\"778,-82.5 778,-118.5\"/>\n<text text-anchor=\"middle\" x=\"820.5\" y=\"-96.8\" font-family=\"Times,serif\" font-size=\"14.00\">data &#45;6.0000</text>\n<polyline fill=\"none\" stroke=\"black\" points=\"863,-82.5 863,-118.5\"/>\n<text text-anchor=\"middle\" x=\"904\" y=\"-96.8\" font-family=\"Times,serif\" font-size=\"14.00\">grad 0.0000</text>\n</g>\n<!-- 5583739520&#45;&gt;5583738896+ -->\n<g id=\"edge12\" class=\"edge\">\n<title>5583739520&#45;&gt;5583738896+</title>\n<path fill=\"none\" stroke=\"black\" d=\"M936.26,-82.53C948.46,-80.8 960.04,-79.16 970.16,-77.72\"/>\n<polygon fill=\"black\" stroke=\"black\" points=\"970.42,-81.22 979.83,-76.35 969.44,-74.29 970.42,-81.22\"/>\n</g>\n<!-- 5583739520+&#45;&gt;5583739520 -->\n<g id=\"edge3\" class=\"edge\">\n<title>5583739520+&#45;&gt;5583739520</title>\n<path fill=\"none\" stroke=\"black\" d=\"M636.23,-100.5C643.46,-100.5 651.86,-100.5 660.97,-100.5\"/>\n<polygon fill=\"black\" stroke=\"black\" points=\"660.89,-104 670.89,-100.5 660.89,-97 660.89,-104\"/>\n</g>\n<!-- 5583738512 -->\n<g id=\"node8\" class=\"node\">\n<title>5583738512</title>\n<polygon fill=\"none\" stroke=\"black\" points=\"2.5,-0.5 2.5,-36.5 197.5,-36.5 197.5,-0.5 2.5,-0.5\"/>\n<text text-anchor=\"middle\" x=\"19\" y=\"-14.8\" font-family=\"Times,serif\" font-size=\"14.00\">w2</text>\n<polyline fill=\"none\" stroke=\"black\" points=\"35.5,-0.5 35.5,-36.5\"/>\n<text text-anchor=\"middle\" x=\"75.5\" y=\"-14.8\" font-family=\"Times,serif\" font-size=\"14.00\">data 1.0000</text>\n<polyline fill=\"none\" stroke=\"black\" points=\"115.5,-0.5 115.5,-36.5\"/>\n<text text-anchor=\"middle\" x=\"156.5\" y=\"-14.8\" font-family=\"Times,serif\" font-size=\"14.00\">grad 0.0000</text>\n</g>\n<!-- 5583738512&#45;&gt;5583741680* -->\n<g id=\"edge11\" class=\"edge\">\n<title>5583738512&#45;&gt;5583741680*</title>\n<path fill=\"none\" stroke=\"black\" d=\"M172.27,-36.48C181.67,-39.28 191.12,-42.3 200,-45.5 210.09,-49.13 220.83,-53.71 230.48,-58.11\"/>\n<polygon fill=\"black\" stroke=\"black\" points=\"228.91,-61.24 239.45,-62.29 231.87,-54.89 228.91,-61.24\"/>\n</g>\n<!-- 5583738560 -->\n<g id=\"node9\" class=\"node\">\n<title>5583738560</title>\n<polygon fill=\"none\" stroke=\"black\" points=\"0,-165.5 0,-201.5 200,-201.5 200,-165.5 0,-165.5\"/>\n<text text-anchor=\"middle\" x=\"16.5\" y=\"-179.8\" font-family=\"Times,serif\" font-size=\"14.00\">w1</text>\n<polyline fill=\"none\" stroke=\"black\" points=\"33,-165.5 33,-201.5\"/>\n<text text-anchor=\"middle\" x=\"75.5\" y=\"-179.8\" font-family=\"Times,serif\" font-size=\"14.00\">data &#45;3.0000</text>\n<polyline fill=\"none\" stroke=\"black\" points=\"118,-165.5 118,-201.5\"/>\n<text text-anchor=\"middle\" x=\"159\" y=\"-179.8\" font-family=\"Times,serif\" font-size=\"14.00\">grad 0.0000</text>\n</g>\n<!-- 5583738560&#45;&gt;5583740528* -->\n<g id=\"edge6\" class=\"edge\">\n<title>5583738560&#45;&gt;5583740528*</title>\n<path fill=\"none\" stroke=\"black\" d=\"M172.27,-165.52C181.67,-162.72 191.12,-159.7 200,-156.5 210.09,-152.87 220.83,-148.29 230.48,-143.89\"/>\n<polygon fill=\"black\" stroke=\"black\" points=\"231.87,-147.11 239.45,-139.71 228.91,-140.76 231.87,-147.11\"/>\n</g>\n<!-- 5583741680 -->\n<g id=\"node10\" class=\"node\">\n<title>5583741680</title>\n<polygon fill=\"none\" stroke=\"black\" points=\"328.5,-55.5 328.5,-91.5 543.5,-91.5 543.5,-55.5 328.5,-55.5\"/>\n<text text-anchor=\"middle\" x=\"355\" y=\"-69.8\" font-family=\"Times,serif\" font-size=\"14.00\">x2*w2</text>\n<polyline fill=\"none\" stroke=\"black\" points=\"381.5,-55.5 381.5,-91.5\"/>\n<text text-anchor=\"middle\" x=\"421.5\" y=\"-69.8\" font-family=\"Times,serif\" font-size=\"14.00\">data 0.0000</text>\n<polyline fill=\"none\" stroke=\"black\" points=\"461.5,-55.5 461.5,-91.5\"/>\n<text text-anchor=\"middle\" x=\"502.5\" y=\"-69.8\" font-family=\"Times,serif\" font-size=\"14.00\">grad 0.0000</text>\n</g>\n<!-- 5583741680&#45;&gt;5583739520+ -->\n<g id=\"edge14\" class=\"edge\">\n<title>5583741680&#45;&gt;5583739520+</title>\n<path fill=\"none\" stroke=\"black\" d=\"M543.35,-90.29C553.14,-91.84 562.54,-93.32 570.99,-94.66\"/>\n<polygon fill=\"black\" stroke=\"black\" points=\"570.34,-98.1 580.76,-96.2 571.43,-91.18 570.34,-98.1\"/>\n</g>\n<!-- 5583741680*&#45;&gt;5583741680 -->\n<g id=\"edge4\" class=\"edge\">\n<title>5583741680*&#45;&gt;5583741680</title>\n<path fill=\"none\" stroke=\"black\" d=\"M290.34,-73.5C298.24,-73.5 307.46,-73.5 317.34,-73.5\"/>\n<polygon fill=\"black\" stroke=\"black\" points=\"317.24,-77 327.24,-73.5 317.24,-70 317.24,-77\"/>\n</g>\n<!-- 5583734528 -->\n<g id=\"node12\" class=\"node\">\n<title>5583734528</title>\n<polygon fill=\"none\" stroke=\"black\" points=\"716,-27.5 716,-63.5 901,-63.5 901,-27.5 716,-27.5\"/>\n<text text-anchor=\"middle\" x=\"727.5\" y=\"-41.8\" font-family=\"Times,serif\" font-size=\"14.00\">b</text>\n<polyline fill=\"none\" stroke=\"black\" points=\"739,-27.5 739,-63.5\"/>\n<text text-anchor=\"middle\" x=\"779\" y=\"-41.8\" font-family=\"Times,serif\" font-size=\"14.00\">data 6.8814</text>\n<polyline fill=\"none\" stroke=\"black\" points=\"819,-27.5 819,-63.5\"/>\n<text text-anchor=\"middle\" x=\"860\" y=\"-41.8\" font-family=\"Times,serif\" font-size=\"14.00\">grad 0.0000</text>\n</g>\n<!-- 5583734528&#45;&gt;5583738896+ -->\n<g id=\"edge7\" class=\"edge\">\n<title>5583734528&#45;&gt;5583738896+</title>\n<path fill=\"none\" stroke=\"black\" d=\"M900.73,-57.97C925.29,-61.33 950.47,-64.77 970.15,-67.46\"/>\n<polygon fill=\"black\" stroke=\"black\" points=\"969.47,-70.9 979.85,-68.79 970.41,-63.97 969.47,-70.9\"/>\n</g>\n<!-- 5583734192 -->\n<g id=\"node13\" class=\"node\">\n<title>5583734192</title>\n<polygon fill=\"none\" stroke=\"black\" points=\"4,-110.5 4,-146.5 196,-146.5 196,-110.5 4,-110.5\"/>\n<text text-anchor=\"middle\" x=\"19\" y=\"-124.8\" font-family=\"Times,serif\" font-size=\"14.00\">x1</text>\n<polyline fill=\"none\" stroke=\"black\" points=\"34,-110.5 34,-146.5\"/>\n<text text-anchor=\"middle\" x=\"74\" y=\"-124.8\" font-family=\"Times,serif\" font-size=\"14.00\">data 2.0000</text>\n<polyline fill=\"none\" stroke=\"black\" points=\"114,-110.5 114,-146.5\"/>\n<text text-anchor=\"middle\" x=\"155\" y=\"-124.8\" font-family=\"Times,serif\" font-size=\"14.00\">grad 0.0000</text>\n</g>\n<!-- 5583734192&#45;&gt;5583740528* -->\n<g id=\"edge10\" class=\"edge\">\n<title>5583734192&#45;&gt;5583740528*</title>\n<path fill=\"none\" stroke=\"black\" d=\"M195.59,-128.5C205.66,-128.5 215.42,-128.5 224.23,-128.5\"/>\n<polygon fill=\"black\" stroke=\"black\" points=\"224.07,-132 234.07,-128.5 224.07,-125 224.07,-132\"/>\n</g>\n<!-- 5583735776 -->\n<g id=\"node14\" class=\"node\">\n<title>5583735776</title>\n<polygon fill=\"none\" stroke=\"black\" points=\"1382,-54.5 1382,-90.5 1567,-90.5 1567,-54.5 1382,-54.5\"/>\n<text text-anchor=\"middle\" x=\"1393.5\" y=\"-68.8\" font-family=\"Times,serif\" font-size=\"14.00\">o</text>\n<polyline fill=\"none\" stroke=\"black\" points=\"1405,-54.5 1405,-90.5\"/>\n<text text-anchor=\"middle\" x=\"1445\" y=\"-68.8\" font-family=\"Times,serif\" font-size=\"14.00\">data 0.7071</text>\n<polyline fill=\"none\" stroke=\"black\" points=\"1485,-54.5 1485,-90.5\"/>\n<text text-anchor=\"middle\" x=\"1526\" y=\"-68.8\" font-family=\"Times,serif\" font-size=\"14.00\">grad 1.0000</text>\n</g>\n<!-- 5583735776tanh&#45;&gt;5583735776 -->\n<g id=\"edge5\" class=\"edge\">\n<title>5583735776tanh&#45;&gt;5583735776</title>\n<path fill=\"none\" stroke=\"black\" d=\"M1346.39,-72.5C1353.62,-72.5 1361.92,-72.5 1370.74,-72.5\"/>\n<polygon fill=\"black\" stroke=\"black\" points=\"1370.64,-76 1380.64,-72.5 1370.64,-69 1370.64,-76\"/>\n</g>\n</g>\n</svg>\n",
      "text/plain": "<graphviz.graphs.Digraph at 0x14cd0fee0>"
     },
     "execution_count": 10,
     "metadata": {},
     "output_type": "execute_result"
    }
   ],
   "source": [
    "draw_dot(o)\n"
   ],
   "metadata": {
    "collapsed": false
   }
  },
  {
   "cell_type": "markdown",
   "source": [
    "### SJ: RESUME here\n",
    "- [1:16:04](https://www.youtube.com/watch?v=VMj-3S1tku0&list=PLAqhIrjkxbuWI23v9cThsA9GvCAUhRvKZ)\n",
    "- FORK and push this repo to your own github account"
   ],
   "metadata": {
    "collapsed": false
   }
  },
  {
   "cell_type": "code",
   "execution_count": 9,
   "outputs": [],
   "source": [
    "o.grad = 1.0\n",
    "o._backward()"
   ],
   "metadata": {
    "collapsed": false
   }
  },
  {
   "cell_type": "code",
   "execution_count": null,
   "outputs": [],
   "source": [
    "# SJ: lets fix some gradients\n",
    "o.grad = 1.0\n",
    "# for n, we need to calculate the derivative of the tanh function\n",
    "# do/dn = 1 - tanh(n)^2 = 1 - o^2\n",
    "n_grad = 1 - o.data ** 2 # this is the derivative of the tanh function, see https://en.wikipedia.org/wiki/Hyperbolic_functions#Tanh (derivatices section)\n",
    "print(f\"n_grad = {n_grad}\")\n",
    "n.grad = n_grad"
   ],
   "metadata": {
    "collapsed": false
   }
  },
  {
   "cell_type": "code",
   "execution_count": null,
   "outputs": [],
   "source": [
    "draw_dot(root=o)\n"
   ],
   "metadata": {
    "collapsed": false
   }
  },
  {
   "cell_type": "markdown",
   "source": [
    "## SJ: lets continue the backpropagation\n",
    "- remember the gradient is the derivative of the loss function with respect to the variable\n",
    "- remember a plus is a distributor so we can distribute the gradient to the two inputs i.e. flow back the same gradient to both inputs\n",
    "- for the 1st input layer, for multiplication the local gradient/derivative is the other term\n"
   ],
   "metadata": {
    "collapsed": false
   }
  },
  {
   "cell_type": "code",
   "execution_count": null,
   "outputs": [],
   "source": [
    "# SJ first lets set the gradient for the 2 intermediate layers where we're adding\n",
    "x1w1x2w2.grad = 0.5\n",
    "b.grad = 0.5\n",
    "x1w1.grad = 0.5\n",
    "x2w2.grad = 0.5\n"
   ],
   "metadata": {
    "collapsed": false
   }
  },
  {
   "cell_type": "code",
   "execution_count": null,
   "outputs": [],
   "source": [
    "# SJ for the 1st layer, for multiplication it's always the other term so we can do a local chain rule\n",
    "x2.grad = w2.data * x2w2.grad # for x2 it will be (the other term's data w2) * (the gradient of the next layer x2w2)\n",
    "w2.grad = x2.data * x2w2.grad # NB. the derivative tells the sensitivity of the output to this weight w2 which in this case is zero\n",
    "\n",
    "x1.grad = w1.data * x1w1.grad\n",
    "w1.grad = x1.data * x1w1.grad\n",
    "\n",
    "# this completes this MANUAL back propagation and tells us that: (1) w2 has no bearing but w1 does in a positive manner and will be proportionate because the gradient is 1.0"
   ],
   "metadata": {
    "collapsed": false
   }
  },
  {
   "cell_type": "code",
   "execution_count": null,
   "outputs": [],
   "source": [
    "# SJ: Could have simplied this using numpy dot product\n",
    "import numpy as np\n",
    "\n",
    "\n",
    "# Define the input vectors x and w as NumPy arrays\n",
    "x = np.array([x1, x2])\n",
    "w = np.array([w1, w2])\n",
    "\n",
    "# Calculate the dot product of x and w using the dot function\n",
    "xw = np.dot(x, w)\n",
    "\n",
    "# xw will contain the result of x1w1 + x2w2\n",
    "draw_dot(xw)"
   ],
   "metadata": {
    "collapsed": false
   }
  },
  {
   "cell_type": "code",
   "execution_count": null,
   "metadata": {},
   "outputs": [],
   "source": [
    "o.backward()"
   ]
  },
  {
   "cell_type": "code",
   "execution_count": null,
   "metadata": {},
   "outputs": [],
   "source": [
    "topo = []\n",
    "visited = set()\n",
    "\n",
    "\n",
    "def build_topo(v):\n",
    "    if v not in visited:\n",
    "        visited.add(v)\n",
    "        for child in v._prev:\n",
    "            build_topo(child)\n",
    "        topo.append(v)\n",
    "\n",
    "\n",
    "build_topo(o)\n",
    "topo"
   ]
  },
  {
   "cell_type": "code",
   "execution_count": null,
   "metadata": {},
   "outputs": [],
   "source": [
    "o.grad = 1.0 # we manually set this first"
   ]
  },
  {
   "cell_type": "code",
   "execution_count": null,
   "metadata": {},
   "outputs": [],
   "source": [
    "o._backward()"
   ]
  },
  {
   "cell_type": "code",
   "execution_count": null,
   "metadata": {},
   "outputs": [],
   "source": [
    "n._backward()"
   ]
  },
  {
   "cell_type": "code",
   "execution_count": null,
   "metadata": {},
   "outputs": [],
   "source": [
    "b._backward()"
   ]
  },
  {
   "cell_type": "code",
   "execution_count": null,
   "metadata": {},
   "outputs": [],
   "source": [
    "x1w1x2w2._backward()"
   ]
  },
  {
   "cell_type": "code",
   "execution_count": null,
   "metadata": {},
   "outputs": [],
   "source": [
    "x2w2._backward()\n",
    "x1w1._backward()"
   ]
  },
  {
   "cell_type": "code",
   "execution_count": null,
   "metadata": {},
   "outputs": [],
   "source": [
    "x1.grad = w1.data * x1w1.grad\n",
    "w1.grad = x1.data * x1w1.grad"
   ]
  },
  {
   "cell_type": "code",
   "execution_count": null,
   "metadata": {},
   "outputs": [],
   "source": [
    "x2.grad = w2.data * x2w2.grad\n",
    "w2.grad = x2.data * x2w2.grad"
   ]
  },
  {
   "cell_type": "code",
   "execution_count": null,
   "metadata": {},
   "outputs": [],
   "source": [
    "x1w1.grad = 0.5\n",
    "x2w2.grad = 0.5"
   ]
  },
  {
   "cell_type": "code",
   "execution_count": null,
   "metadata": {},
   "outputs": [],
   "source": [
    "x1w1x2w2.grad = 0.5\n",
    "b.grad = 0.5"
   ]
  },
  {
   "cell_type": "code",
   "execution_count": null,
   "metadata": {},
   "outputs": [],
   "source": [
    "n.grad = 0.5"
   ]
  },
  {
   "cell_type": "code",
   "execution_count": null,
   "metadata": {},
   "outputs": [],
   "source": [
    "o.grad = 1.0"
   ]
  },
  {
   "cell_type": "code",
   "execution_count": null,
   "metadata": {},
   "outputs": [],
   "source": [
    "1 - o.data ** 2"
   ]
  },
  {
   "cell_type": "code",
   "execution_count": null,
   "metadata": {},
   "outputs": [],
   "source": [
    "# o = tanh(n)\n",
    "# do/dn = 1 - o**2"
   ]
  },
  {
   "cell_type": "code",
   "execution_count": null,
   "metadata": {},
   "outputs": [],
   "source": [
    "a = Value(3.0, label='a')\n",
    "b = a + a;\n",
    "b.label = 'b'\n",
    "b.backward()\n",
    "draw_dot(b)"
   ]
  },
  {
   "cell_type": "code",
   "execution_count": null,
   "metadata": {},
   "outputs": [],
   "source": [
    "a = Value(-2.0, label='a')\n",
    "b = Value(3.0, label='b')\n",
    "d = a * b;\n",
    "d.label = 'd'\n",
    "e = a + b;\n",
    "e.label = 'e'\n",
    "f = d * e;\n",
    "f.label = 'f'\n",
    "\n",
    "f.backward()\n",
    "\n",
    "draw_dot(f)"
   ]
  },
  {
   "cell_type": "code",
   "execution_count": null,
   "metadata": {},
   "outputs": [],
   "source": []
  }
 ],
 "metadata": {
  "kernelspec": {
   "display_name": "Python 3",
   "language": "python",
   "name": "python3"
  },
  "language_info": {
   "codemirror_mode": {
    "name": "ipython",
    "version": 3
   },
   "file_extension": ".py",
   "mimetype": "text/x-python",
   "name": "python",
   "nbconvert_exporter": "python",
   "pygments_lexer": "ipython3",
   "version": "3.8.5"
  }
 },
 "nbformat": 4,
 "nbformat_minor": 4
}
